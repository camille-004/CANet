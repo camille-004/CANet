{
 "cells": [
  {
   "cell_type": "code",
   "execution_count": 15,
   "metadata": {
    "collapsed": true
   },
   "outputs": [],
   "source": [
    "import json"
   ]
  },
  {
   "cell_type": "code",
   "execution_count": 20,
   "outputs": [
    {
     "name": "stdout",
     "output_type": "stream",
     "text": [
      "Cora - GCN\n",
      "Accuracy: 0.80812 +/- 0.02574\n",
      "Accuracy: 0.73104 +/- 0.0502\n",
      "\n",
      "Cora - GAT\n",
      "Accuracy: 0.87577 +/- 0.01058\n",
      "Accuracy: 0.86237 +/- 0.01657\n",
      "\n",
      "Cora - GIN\n",
      "Accuracy: 0.76999 +/- 0.07239\n",
      "Accuracy: 0.65087 +/- 0.16324\n",
      "\n",
      "Citeseer - GCN\n",
      "Accuracy: 0.73974 +/- 0.01722\n",
      "Accuracy: 0.65938 +/- 0.02457\n",
      "\n",
      "Citeseer - GAT\n",
      "Accuracy: 0.77778 +/- 0.00736\n",
      "Accuracy: 0.72079 +/- 0.00566\n",
      "\n",
      "Citeseer - GIN\n",
      "Accuracy: 0.70871 +/- 0.02983\n",
      "Accuracy: 0.61412 +/- 0.02352\n",
      "\n",
      "Pubmed - GCN\n",
      "Accuracy: 0.87272 +/- 0.00922\n",
      "Accuracy: 0.86851 +/- 0.0104\n",
      "\n",
      "Pubmed - GAT\n",
      "Accuracy: 0.86427 +/- 0.00562\n",
      "Accuracy: 0.85782 +/- 0.00797\n",
      "\n",
      "Pubmed - GIN\n",
      "Accuracy: 0.86207 +/- 0.0103\n",
      "Accuracy: 0.85369 +/- 0.01309\n",
      "\n"
     ]
    }
   ],
   "source": [
    "for dataset in [\"cora\", \"citeseer\", \"pubmed\"]:\n",
    "    for model in [\"GCN\", \"GAT\", \"GIN\"]:\n",
    "        try:\n",
    "            with open(f\"../results/{dataset}_{model}/agg/val/best.json\", \"r\") as f:\n",
    "                print(f\"{dataset.title()} - {model}\")\n",
    "                res = json.load(f)\n",
    "                print(f\"Accuracy: {res['accuracy']} +/- {res['accuracy_std']}\")\n",
    "                print(f\"Accuracy: {res['f1']} +/- {res['f1_std']}\\n\")\n",
    "                f.close()\n",
    "        except FileNotFoundError:\n",
    "            continue"
   ],
   "metadata": {
    "collapsed": false
   }
  },
  {
   "cell_type": "code",
   "execution_count": null,
   "outputs": [],
   "source": [],
   "metadata": {
    "collapsed": false
   }
  }
 ],
 "metadata": {
  "kernelspec": {
   "display_name": "Python 3",
   "language": "python",
   "name": "python3"
  },
  "language_info": {
   "codemirror_mode": {
    "name": "ipython",
    "version": 2
   },
   "file_extension": ".py",
   "mimetype": "text/x-python",
   "name": "python",
   "nbconvert_exporter": "python",
   "pygments_lexer": "ipython2",
   "version": "2.7.6"
  }
 },
 "nbformat": 4,
 "nbformat_minor": 0
}
